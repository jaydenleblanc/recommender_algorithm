{
 "cells": [
  {
   "cell_type": "code",
   "execution_count": 1,
   "metadata": {},
   "outputs": [],
   "source": [
    "# Import dependencies\n",
    "import numpy as np\n",
    "import pandas as pd"
   ]
  },
  {
   "cell_type": "code",
   "execution_count": 2,
   "metadata": {},
   "outputs": [
    {
     "name": "stdout",
     "output_type": "stream",
     "text": [
      "                   song_id                                title  \\\n",
      "0       SOQMMHC12AB0180CB8                         Silent Night   \n",
      "1       SOVFVAK12A8C1350D9                          Tanssi vaan   \n",
      "2       SOGTUKN12AB017F4F1                    No One Could Ever   \n",
      "3       SOBNYVR12A8C13558C                        Si Vos Querés   \n",
      "4       SOHSBXH12A8C13B0DF                     Tangle Of Aspens   \n",
      "...                    ...                                  ...   \n",
      "999995  SOTXAME12AB018F136                      O Samba Da Vida   \n",
      "999996  SOXQYIQ12A8C137FBB                         Jago Chhadeo   \n",
      "999997  SOHODZI12A8C137BB3                              Novemba   \n",
      "999998  SOLXGOR12A81C21EB7                              Faraday   \n",
      "999999  SOWXJXQ12AB0189F43  Fernweh feat. Sektion Kuchikäschtli   \n",
      "\n",
      "                                     release       artist_name  year  \n",
      "0                      Monster Ballads X-Mas  Faster Pussy cat  2003  \n",
      "1                                Karkuteillä  Karkkiautomaatti  1995  \n",
      "2                                     Butter    Hudson Mohawke  2006  \n",
      "3                                    De Culo       Yerba Brava  2003  \n",
      "4       Rene Ablaze Presents Winter Sessions        Der Mystic     0  \n",
      "...                                      ...               ...   ...  \n",
      "999995                          Pacha V.I.P.      Kiko Navarro     0  \n",
      "999996              Naale Baba Lassi Pee Gya     Kuldeep Manak     0  \n",
      "999997       Dub_Connected: electronic music    Gabriel Le Mar     0  \n",
      "999998          The Trance Collection Vol. 2             Elude     0  \n",
      "999999                            So Oder So             Texta  2004  \n",
      "\n",
      "[1000000 rows x 5 columns]\n"
     ]
    }
   ],
   "source": [
    "# Import music datasets\n",
    "#csv file\n",
    "song_data1 = pd.read_csv('song_data.csv')\n",
    "print(song_data1)"
   ]
  },
  {
   "cell_type": "code",
   "execution_count": 3,
   "metadata": {},
   "outputs": [
    {
     "name": "stdout",
     "output_type": "stream",
     "text": [
      "                                          user_id             song_id  \\\n",
      "0        b80344d063b5ccb3212f76538f3d9e43d87dca9e  SOBBMDR12A8C13253B   \n",
      "1        b80344d063b5ccb3212f76538f3d9e43d87dca9e  SOBXHDL12A81C204C0   \n",
      "2        b80344d063b5ccb3212f76538f3d9e43d87dca9e  SOBYHAJ12A6701BF1D   \n",
      "3        b80344d063b5ccb3212f76538f3d9e43d87dca9e  SODACBL12A8C13C273   \n",
      "4        b80344d063b5ccb3212f76538f3d9e43d87dca9e  SODDNQT12A6D4F5F7E   \n",
      "...                                           ...                 ...   \n",
      "1999994  d8bfd4ec88f0f3773a9e022e3c1a0f1d3b7b6a92  SOJEYPO12AAA8C6B0E   \n",
      "1999995  d8bfd4ec88f0f3773a9e022e3c1a0f1d3b7b6a92  SOJJYDE12AF729FC16   \n",
      "1999996  d8bfd4ec88f0f3773a9e022e3c1a0f1d3b7b6a92  SOJKQSF12A6D4F5EE9   \n",
      "1999997  d8bfd4ec88f0f3773a9e022e3c1a0f1d3b7b6a92  SOJUXGA12AC961885C   \n",
      "1999998  d8bfd4ec88f0f3773a9e022e3c1a0f1d3b7b6a92  SOJYOLS12A8C13C06F   \n",
      "\n",
      "         listen_count  \n",
      "0                   2  \n",
      "1                   1  \n",
      "2                   1  \n",
      "3                   1  \n",
      "4                   5  \n",
      "...               ...  \n",
      "1999994             2  \n",
      "1999995             4  \n",
      "1999996             3  \n",
      "1999997             1  \n",
      "1999998             1  \n",
      "\n",
      "[1999999 rows x 3 columns]\n"
     ]
    }
   ],
   "source": [
    "#txt file\n",
    "song_data2 = pd.read_fwf('songdata_10000.txt')\n",
    "song_data2.columns = ['user_id','song_id','listen_count']\n",
    "print(song_data2)"
   ]
  },
  {
   "cell_type": "code",
   "execution_count": 4,
   "metadata": {},
   "outputs": [
    {
     "data": {
      "text/plain": [
       "76353"
      ]
     },
     "execution_count": 4,
     "metadata": {},
     "output_type": "execute_result"
    }
   ],
   "source": [
    "# Unique Users\n",
    "song_data2['user_id'].nunique()"
   ]
  },
  {
   "cell_type": "code",
   "execution_count": null,
   "metadata": {},
   "outputs": [],
   "source": [
    "# Find Average "
   ]
  },
  {
   "cell_type": "code",
   "execution_count": null,
   "metadata": {},
   "outputs": [],
   "source": [
    "# merge datasets and remove duplicates\n",
    "song_df = pd.merge(song_data2, song_data1.drop_duplicates(['song_id']), on= \"song_id\", how='left')\n",
    "song_df.head()"
   ]
  },
  {
   "cell_type": "code",
   "execution_count": null,
   "metadata": {},
   "outputs": [],
   "source": [
    "combined_songs_df = song_df.dropna(axis = 0, subset = ['title'])"
   ]
  },
  {
   "cell_type": "code",
   "execution_count": null,
   "metadata": {},
   "outputs": [],
   "source": [
    "# Find the total number of times each song was listened to\n",
    "# This is necessary to create a threshold\n",
    "songs_listened_to_count = (combined_songs_df.groupby(by = ['title'])['listen_count'].\n",
    "    count().reset_index().rename(columns = {'listen_count': 'totalTimesListenedTo'})\n",
    "    [['title','totalTimesListenedTo']])\n",
    "    \n",
    "songs_listened_to_count.head(50)"
   ]
  },
  {
   "cell_type": "code",
   "execution_count": null,
   "metadata": {},
   "outputs": [],
   "source": [
    "# merge dataset of total listen count to the original dataset\n",
    "count_with_totalListenCount = combined_songs_df.merge(songs_listened_to_count, left_on = 'title', right_on = 'title', how = 'left')\n",
    "count_with_totalListenCount.head(50)"
   ]
  },
  {
   "cell_type": "code",
   "execution_count": null,
   "metadata": {},
   "outputs": [],
   "source": [
    "# describe 'totalTimesListenTo' column to understand what the threshold should be\n",
    "songs_listened_to_count['totalTimesListenedTo'].describe()"
   ]
  },
  {
   "cell_type": "code",
   "execution_count": null,
   "metadata": {},
   "outputs": [],
   "source": [
    "listening_threshold = 500\n",
    "listening_popular_songs = count_with_totalListenCount.query('totalTimesListenedTo >= @listening_threshold')\n",
    "listening_popular_songs.head(50)\n",
    "print(listening_popular_songs.shape)"
   ]
  },
  {
   "cell_type": "code",
   "execution_count": null,
   "metadata": {},
   "outputs": [],
   "source": [
    "#listening_threshold = 100\n",
    "#listening_popular_songs = count_with_totalListenCount.query('totalTimesListenedTo >= @listening_threshold')\n",
    "#listening_popular_songs.head(50)"
   ]
  },
  {
   "cell_type": "code",
   "execution_count": null,
   "metadata": {},
   "outputs": [],
   "source": [
    "# Get Shape of dataframe\n",
    "#listening_popular_songs.shape"
   ]
  },
  {
   "cell_type": "code",
   "execution_count": null,
   "metadata": {},
   "outputs": [],
   "source": [
    "# Create pivot table\n",
    "song_features_df = listening_popular_songs.pivot_table(index='title', columns = 'user_id', values = 'listen_count').fillna(0)\n",
    "song_features_df.head(50)"
   ]
  },
  {
   "cell_type": "code",
   "execution_count": null,
   "metadata": {},
   "outputs": [],
   "source": [
    "song_features_df.shape"
   ]
  },
  {
   "cell_type": "code",
   "execution_count": null,
   "metadata": {},
   "outputs": [],
   "source": []
  }
 ],
 "metadata": {
  "kernelspec": {
   "display_name": "Python 3",
   "language": "python",
   "name": "python3"
  },
  "language_info": {
   "codemirror_mode": {
    "name": "ipython",
    "version": 3
   },
   "file_extension": ".py",
   "mimetype": "text/x-python",
   "name": "python",
   "nbconvert_exporter": "python",
   "pygments_lexer": "ipython3",
   "version": "3.6.12"
  }
 },
 "nbformat": 4,
 "nbformat_minor": 4
}
